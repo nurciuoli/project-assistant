{
 "cells": [
  {
   "cell_type": "code",
   "execution_count": 1,
   "metadata": {},
   "outputs": [
    {
     "name": "stderr",
     "output_type": "stream",
     "text": [
      "2024-12-28 12:21:50,453 - INFO - Anthropic client initialized.\n",
      "2024-12-28 12:21:51,147 - INFO - Perplexity configuration initialized.\n",
      "2024-12-28 12:21:51,355 - INFO - client initialized with gemini style model\n"
     ]
    }
   ],
   "source": [
    "from agent import initialize_agent\n",
    "\n",
    "agi = initialize_agent(model='gemini-1.5-flash-8b-latest')\n"
   ]
  },
  {
   "cell_type": "code",
   "execution_count": 2,
   "metadata": {},
   "outputs": [
    {
     "data": {
      "text/plain": [
       "'gemini-1.5-flash-8b-latest'"
      ]
     },
     "execution_count": 2,
     "metadata": {},
     "output_type": "execute_result"
    }
   ],
   "source": [
    "agi.model"
   ]
  },
  {
   "cell_type": "code",
   "execution_count": 3,
   "metadata": {},
   "outputs": [
    {
     "name": "stderr",
     "output_type": "stream",
     "text": [
      "2024-12-28 12:21:54,533 - INFO - HTTP Request: POST https://generativelanguage.googleapis.com/v1beta/chat/completions \"HTTP/1.1 200 OK\"\n",
      "2024-12-28 12:21:54,543 - INFO - Writing file: local\\shark_poem.txt\n",
      "2024-12-28 12:21:54,544 - INFO - File 'local\\shark_poem.txt' written\n",
      "2024-12-28 12:21:54,544 - INFO - Chat completed.\n"
     ]
    },
    {
     "name": "stdout",
     "output_type": "stream",
     "text": [
      "=====================\n",
      "      Messages:\n",
      "=====================\n",
      "\n",
      "System:\n",
      "You are a helpful assistant\n",
      "\n",
      "User:\n",
      "write me a poem about sharks\n"
     ]
    }
   ],
   "source": [
    "agi.chat(prompt='write me a poem about sharks',\n",
    "         fm=True)"
   ]
  },
  {
   "cell_type": "code",
   "execution_count": null,
   "metadata": {},
   "outputs": [],
   "source": []
  }
 ],
 "metadata": {
  "kernelspec": {
   "display_name": "paenv",
   "language": "python",
   "name": "python3"
  },
  "language_info": {
   "codemirror_mode": {
    "name": "ipython",
    "version": 3
   },
   "file_extension": ".py",
   "mimetype": "text/x-python",
   "name": "python",
   "nbconvert_exporter": "python",
   "pygments_lexer": "ipython3",
   "version": "3.11.9"
  }
 },
 "nbformat": 4,
 "nbformat_minor": 2
}
