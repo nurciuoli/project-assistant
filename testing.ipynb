{
 "cells": [
  {
   "cell_type": "code",
   "execution_count": 1,
   "metadata": {},
   "outputs": [
    {
     "name": "stderr",
     "output_type": "stream",
     "text": [
      "2024-12-28 13:52:38,693 - INFO - Anthropic client initialized.\n",
      "2024-12-28 13:52:39,383 - INFO - Perplexity configuration initialized.\n",
      "2024-12-28 13:52:39,591 - INFO - client initialized with gemini style model\n"
     ]
    }
   ],
   "source": [
    "from agent import initialize_agent\n",
    "\n",
    "agi = initialize_agent(model='gemini-1.5-flash-8b-latest')\n"
   ]
  },
  {
   "cell_type": "code",
   "execution_count": 2,
   "metadata": {},
   "outputs": [
    {
     "name": "stderr",
     "output_type": "stream",
     "text": [
      "2024-12-28 13:52:39,860 - INFO - HTTP Request: POST https://generativelanguage.googleapis.com/v1beta/chat/completions \"HTTP/1.1 200 OK\"\n",
      "2024-12-28 13:52:39,973 - INFO - Chat completed.\n"
     ]
    },
    {
     "name": "stdout",
     "output_type": "stream",
     "text": [
      "Hi there! How can I help you today?\n",
      "=====================\n",
      "      Messages:\n",
      "=====================\n",
      "\n",
      "System:\n",
      "You are a helpful assistant\n",
      "\n",
      "User:\n",
      "hi\n",
      "\n",
      "Assistant:\n",
      "Hi there! How can I help you today?\n",
      "\n"
     ]
    }
   ],
   "source": [
    "await agi.achat('hi')"
   ]
  },
  {
   "cell_type": "code",
   "execution_count": 3,
   "metadata": {},
   "outputs": [
    {
     "name": "stderr",
     "output_type": "stream",
     "text": [
      "2024-12-28 13:52:47,303 - INFO - HTTP Request: POST https://generativelanguage.googleapis.com/v1beta/chat/completions \"HTTP/1.1 200 OK\"\n",
      "2024-12-28 13:52:47,314 - INFO - Writing file: local\\ocean_poem.txt\n",
      "2024-12-28 13:52:47,315 - INFO - File 'local\\ocean_poem.txt' written\n",
      "2024-12-28 13:52:47,316 - INFO - Chat completed.\n"
     ]
    },
    {
     "name": "stdout",
     "output_type": "stream",
     "text": [
      "=====================\n",
      "      Messages:\n",
      "=====================\n",
      "\n",
      "System:\n",
      "You are a helpful assistant\n",
      "\n",
      "User:\n",
      "hi\n",
      "\n",
      "Assistant:\n",
      "Hi there! How can I help you today?\n",
      "\n",
      "\n",
      "User:\n",
      "write me a poem about oceans\n"
     ]
    }
   ],
   "source": [
    "agi.chat(prompt='write me a poem about oceans',\n",
    "         fm=True)"
   ]
  },
  {
   "cell_type": "code",
   "execution_count": 4,
   "metadata": {},
   "outputs": [
    {
     "name": "stderr",
     "output_type": "stream",
     "text": [
      "2024-12-28 13:52:51,733 - INFO - HTTP Request: POST https://generativelanguage.googleapis.com/v1beta/chat/completions \"HTTP/1.1 200 OK\"\n",
      "2024-12-28 13:52:51,736 - INFO - Writing file: local\\my_class_template.py\n",
      "2024-12-28 13:52:51,737 - INFO - File 'local\\my_class_template.py' written\n",
      "2024-12-28 13:52:51,737 - INFO - Chat completed.\n"
     ]
    },
    {
     "name": "stdout",
     "output_type": "stream",
     "text": [
      "=====================\n",
      "      Messages:\n",
      "=====================\n",
      "\n",
      "System:\n",
      "You are a helpful assistant\n",
      "\n",
      "User:\n",
      "hi\n",
      "\n",
      "Assistant:\n",
      "Hi there! How can I help you today?\n",
      "\n",
      "\n",
      "User:\n",
      "write me a poem about oceans\n",
      "\n",
      "User:\n",
      "generate a simple template for a python class with comments, but leave it mostly empty\n"
     ]
    }
   ],
   "source": [
    "agi.chat(prompt='generate a simple template for a python class with comments, but leave it mostly empty',\n",
    "         fm=True)"
   ]
  }
 ],
 "metadata": {
  "kernelspec": {
   "display_name": "paenv",
   "language": "python",
   "name": "python3"
  },
  "language_info": {
   "codemirror_mode": {
    "name": "ipython",
    "version": 3
   },
   "file_extension": ".py",
   "mimetype": "text/x-python",
   "name": "python",
   "nbconvert_exporter": "python",
   "pygments_lexer": "ipython3",
   "version": "3.11.9"
  }
 },
 "nbformat": 4,
 "nbformat_minor": 2
}
